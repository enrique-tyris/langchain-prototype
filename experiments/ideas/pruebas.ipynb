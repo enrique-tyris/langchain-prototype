{
 "cells": [
  {
   "cell_type": "markdown",
   "metadata": {},
   "source": [
    "Opción B"
   ]
  },
  {
   "cell_type": "code",
   "execution_count": 25,
   "metadata": {},
   "outputs": [
    {
     "name": "stdout",
     "output_type": "stream",
     "text": [
      "The city that never sleeps! New York City is a treasure trove of excitement, entertainment, and adventure. Here are some fun things to do in the Big Apple:\n",
      "\n",
      "**Iconic Landmarks & Attractions**\n",
      "\n",
      "1. **Statue of Liberty and Ellis Island**: Take a ferry to Liberty Island to see the iconic statue up close and visit the Ellis Island Immigration Museum.\n",
      "2. **Central Park**: A tranquil oasis in the middle of Manhattan, perfect for a stroll, picnic, or bike ride.\n",
      "3. **Empire State Building**: For a panoramic view of the city, head to the observation deck of this iconic skyscraper.\n",
      "4. **The Metropolitan Museum of Art**: One of the world's largest and most famous museums, with a collection that spans over 5,000 years of human history.\n",
      "5. **Times Square**: The heart of New York's entertainment district, known for its bright lights, giant billboards, and lively street performers.\n",
      "\n",
      "**Food & Drink**\n",
      "\n",
      "1. **Try a classic New York-style pizza**: Visit Lombardi's, Joe's Pizza, or Patsy's Pizzeria for a slice of heaven.\n",
      "2. **Explore Chinatown and Little Italy**: Sample delicious dumplings, noodles, and cannoli in these vibrant neighborhoods.\n",
      "3. **Visit a rooftop bar**: Enjoy stunning city views and craft cocktails at 230 Fifth, the Top of the Strand, or the Roof at The Viceroy Central Park.\n",
      "4. **Indulge in a bagel or pastrami sandwich**: Head to Russ & Daughters Cafe, Ess-a-Bagel, or Katz's Delicatessen for a taste of classic New York.\n",
      "\n",
      "**Arts & Culture**\n",
      "\n",
      "1. **Broadway shows**: Catch a performance of a hit musical or play on the Great White Way.\n",
      "2. **MoMA (Museum of Modern Art)**: Discover an incredible collection of modern and contemporary art.\n",
      "3. **Lincoln Center**: Home to the New York City Ballet, Metropolitan Opera, and Juilliard School.\n",
      "4. **Street art in the Lower East Side**: Explore the vibrant murals and graffiti in this trendy neighborhood.\n",
      "\n",
      "**Outdoor Activities**\n",
      "\n",
      "1. **Walk across the Brooklyn Bridge**: Take in spectacular city views and visit Brooklyn's trendy DUMBO neighborhood.\n",
      "2. **Rent a bike and ride along the Hudson River Greenway**: A scenic path that runs along the west side of Manhattan.\n",
      "3. **Visit one of NYC's many beaches**: Coney Island, Rockaway Beach, and Orchard Beach are popular spots for sun, sand, and surf.\n",
      "4. **Take a stroll through High Line**: An elevated park built on an old rail line, with great city views and public art installations.\n",
      "\n",
      "**Seasonal Events & Festivals**\n",
      "\n",
      "1. **Macy's Thanksgiving Day Parade**: A classic American tradition, held every November.\n",
      "2. **New Year's Eve in Times Square**: Ring in the new year with millions of others in the heart of Manhattan.\n",
      "3. **SummerStage**: A free outdoor performing arts festival in Central Park, featuring music, dance, and theater performances.\n",
      "4. **US Open Tennis Championships**: Catch a match at the USTA Billie Jean King National Tennis Center in Flushing Meadows, Queens.\n",
      "\n",
      "These are just a few of the many fun things to do in New York City. With so much to see and do, you're sure to have an unforgettable experience in the city that never sleeps!\n"
     ]
    }
   ],
   "source": [
    "import os\n",
    "from together import Together\n",
    "\n",
    "client = Together(api_key=OPEN_MODELS_KEY)\n",
    "\n",
    "response = client.chat.completions.create(\n",
    "    model=\"meta-llama/Llama-3-70b-chat-hf\",\n",
    "    messages=[{\"role\": \"user\", \"content\": \"Tell me fun things to do in New York\"}],\n",
    ")\n",
    "print(response.choices[0].message.content)"
   ]
  },
  {
   "cell_type": "markdown",
   "metadata": {},
   "source": [
    "# Together AI + Langchain - embeddings -> database"
   ]
  },
  {
   "cell_type": "code",
   "execution_count": 4,
   "metadata": {},
   "outputs": [],
   "source": [
    "from langchain_together.embeddings import TogetherEmbeddings\n",
    "\n",
    "def get_embedding_function():\n",
    "    \n",
    "    os.environ[\"TOGETHER_API_KEY\"] = 'b065ada4924b7209869006860cca59b71a6a3835a2cd9581c772ae571aa38c8f'\n",
    "    embeddings = TogetherEmbeddings(model=\"WhereIsAI/UAE-Large-V1\")\n",
    "    \n",
    "    return embeddings"
   ]
  },
  {
   "cell_type": "code",
   "execution_count": 3,
   "metadata": {},
   "outputs": [],
   "source": [
    "from langchain.text_splitter import RecursiveCharacterTextSplitter\n",
    "from langchain.document_loaders import PyPDFLoader\n",
    "from PyPDF2 import PdfReader"
   ]
  },
  {
   "cell_type": "code",
   "execution_count": 5,
   "metadata": {},
   "outputs": [],
   "source": [
    "pdfpath=\"C:\\\\Users\\\\Enrique\\\\Desktop\\\\CHATBOT\\\\data\\\\RPCOUNTER_USER_MANUAL_es_ES.pdf\"\n",
    "loader = PyPDFLoader(pdfpath)\n",
    "docs = loader.load()"
   ]
  },
  {
   "cell_type": "code",
   "execution_count": 2,
   "metadata": {},
   "outputs": [],
   "source": [
    "def get_pdf_text(pdf_docs):\n",
    "    text=\"\"\n",
    "    #for pdf in pdf_docs:\n",
    "    pdf_reader= PdfReader(pdf_docs)\n",
    "    for page in pdf_reader.pages:\n",
    "        text+= page.extract_text()\n",
    "    return  text"
   ]
  },
  {
   "cell_type": "code",
   "execution_count": 6,
   "metadata": {},
   "outputs": [],
   "source": [
    "docs=get_pdf_text(pdfpath)\n",
    "text_splitter = RecursiveCharacterTextSplitter(chunk_size=500, chunk_overlap=200)\n",
    "data = text_splitter.split_text(docs)"
   ]
  },
  {
   "cell_type": "code",
   "execution_count": 6,
   "metadata": {},
   "outputs": [],
   "source": [
    "from langchain.vectorstores import Chroma\n",
    "CHROMA_PATH = \"C:\\\\Users\\\\Enrique\\\\Desktop\\\\CHATBOT\\\\chroma\"\n",
    "import os\n",
    "# Set the API key in your environment variables or directly in your script\n",
    "os.environ['TOGETHER_API_KEY'] = 'b065ada4924b7209869006860cca59b71a6a3835a2cd9581c772ae571aa38c8f'"
   ]
  },
  {
   "cell_type": "code",
   "execution_count": null,
   "metadata": {},
   "outputs": [],
   "source": []
  },
  {
   "cell_type": "markdown",
   "metadata": {},
   "source": [
    "RAG pruebas resultados online"
   ]
  },
  {
   "cell_type": "code",
   "execution_count": null,
   "metadata": {},
   "outputs": [],
   "source": [
    "from langchain.chains import RetrievalQA\n",
    "from langchain.prompts import PromptTemplate"
   ]
  },
  {
   "cell_type": "code",
   "execution_count": null,
   "metadata": {},
   "outputs": [],
   "source": [
    "template = \"\"\"You are a bot that answers questions about the context provided.\n",
    "If you don't know the answer, simply state that you don't know.\n",
    "\n",
    "{context}\n",
    "\n",
    "Question: {question}\"\"\"\n",
    "\n",
    "PROMPT = PromptTemplate(\n",
    "    template=template, input_variables=[\"context\", \"question\"]\n",
    ")"
   ]
  },
  {
   "cell_type": "code",
   "execution_count": null,
   "metadata": {},
   "outputs": [],
   "source": [
    "from langchain_openai import ChatOpenAI\n",
    "llm = ChatOpenAI(temperature=0, model=\"gpt-3.5-turbo\")"
   ]
  },
  {
   "cell_type": "code",
   "execution_count": null,
   "metadata": {},
   "outputs": [],
   "source": [
    "qa_with_source = RetrievalQA.from_chain_type(\n",
    "    llm=llm,\n",
    "    chain_type=\"stuff\",\n",
    "    retriever=store.as_retriever(),\n",
    "    chain_type_kwargs={\"prompt\": PROMPT, },\n",
    "    return_source_documents=True,\n",
    ")"
   ]
  },
  {
   "cell_type": "code",
   "execution_count": null,
   "metadata": {},
   "outputs": [],
   "source": [
    "qa_with_source.invoke(\"Qué es Inrobics?\")"
   ]
  },
  {
   "cell_type": "markdown",
   "metadata": {},
   "source": [
    "RAG pruebas con Ollama"
   ]
  },
  {
   "cell_type": "code",
   "execution_count": null,
   "metadata": {},
   "outputs": [],
   "source": [
    "import argparse\n",
    "from langchain.vectorstores.chroma import Chroma\n",
    "from langchain.prompts import ChatPromptTemplate\n",
    "from langchain_community.llms.ollama import Ollama\n",
    "\n",
    "from llm_utils import get_embedding_function\n",
    "\n",
    "CHROMA_PATH = \"C:\\\\Users\\\\Enrique\\\\Desktop\\\\CHATBOT\\\\chroma_ESNOVA3\"\n",
    "\n",
    "PROMPT_TEMPLATE_ENG = \"\"\"\n",
    "\n",
    "You are a bot that answers questions about the context provided.\n",
    "If you don't know the answer, simply state that you don't know.\n",
    "\n",
    "Answer the question based only on the following context:\n",
    "\n",
    "{context}\n",
    "\n",
    "---\n",
    "\n",
    "Answer the question based on the above context: {question}\n",
    "\"\"\"\n",
    "\n",
    "PROMPT_TEMPLATE = \"\"\"\n",
    "\n",
    "Eres un bot que responde a preguntas sobre el contexto que te aporto, extraído de un manual de usuario. \n",
    "En concreto, respondes preguntas sobre un manual de usuario.\n",
    "Si no sabes la respuesta con mucha seguridad, simplemente indica que no estás en capacidad de responderla, y sugiere que se pruebe a preguntar de nuevo.\n",
    "PROHIBIDO empezar con frases para citar la referencia, da la respuesta y NADA MÁS. El usuario cree que habla con el mismo manual en PDF.\n",
    "\n",
    "Responde basándote únicamente en:\n",
    "\n",
    "{context}\n",
    "\n",
    "---\n",
    "\n",
    "Responde a esta pregunta basándote en lo anterior: {question}\n",
    "\n",
    "\n",
    "\"\"\"\n",
    "\n",
    "\n",
    "def query_rag(query_text: str):\n",
    "    # Prepare the DB.\n",
    "    embedding_function = get_embedding_function()\n",
    "    db = Chroma(persist_directory=CHROMA_PATH, embedding_function=embedding_function)\n",
    "\n",
    "    # Search the DB.\n",
    "    results = db.similarity_search_with_score(query_text, k=25)\n",
    "\n",
    "    print(results)\n",
    "    context_text = \"\\n\\n---\\n\\n\".join([doc.page_content for doc, _score in results])\n",
    "    prompt_template = ChatPromptTemplate.from_template(PROMPT_TEMPLATE)\n",
    "    prompt = prompt_template.format(context=context_text, question=query_text)\n",
    "    # print(prompt)\n",
    "\n",
    "    # AQUÍ CAMBIA SI USO LLAMA\n",
    "    model = Ollama(model=\"llama3\")\n",
    "    response_text = model.invoke(prompt)\n",
    "\n",
    "    sources = [doc.metadata.get(\"id\", None) for doc, _score in results]\n",
    "    formatted_response = f\"Response: {response_text}\\nSources: {sources}\"\n",
    "    \n",
    "    return formatted_response"
   ]
  },
  {
   "cell_type": "code",
   "execution_count": 20,
   "metadata": {},
   "outputs": [
    {
     "name": "stdout",
     "output_type": "stream",
     "text": [
      "[(Document(page_content='4.7.  Lista de materiales  ................................ ................................ ................  41 \\n4.8.  Memoria de oferta  ................................ ................................ ...............  43 \\n4.9.  Plano  ................................ ................................ ................................ ...... 44 \\n4.10.  Almacén  ................................ ................................ .............................  49', metadata={'id': 'Manual de usuario EsnovaRacks Español V2201.pdf:3:4', 'page': 3, 'source': 'C:\\\\Users\\\\Enrique\\\\Desktop\\\\CHATBOT\\\\data\\\\Manual de usuario EsnovaRacks Español V2201.pdf'}), 167.46009826660156), (Document(page_content='cargas sean las mismas.  \\n \\nSolamente los usuarios avanzados pueden asignar p erfiles de \\npuntal distintos en una misma alineación. Si tiene una alineación \\nsingular que pueda necesitar este tipo de solución, póngase en \\ncontacto con nuestro Departamento Comercial para ofrecerle \\nuna solución.  \\n \\nCada vez que se haga algún cambio que afec te a la definición de los datos \\nde alguna alineación, deberá volver a validar las alineaciones modificadas', metadata={'id': 'Manual de usuario EsnovaRacks Español V2201.pdf:40:1', 'page': 40, 'source': 'C:\\\\Users\\\\Enrique\\\\Desktop\\\\CHATBOT\\\\data\\\\Manual de usuario EsnovaRacks Español V2201.pdf'}), 171.0638427734375), (Document(page_content='almacenar las unidades de carga en profundidad dentro de carriles, \\nque se mueve guiado con dos carriles especiales que también \\npueden soportar las unidades de carga, y que se utiliza para trabajo \\ninterior y sistemas de pasi llo estrecho y muy estrecho.', metadata={'id': 'Manual de usuario EsnovaRacks Español V2201.pdf:61:11', 'page': 61, 'source': 'C:\\\\Users\\\\Enrique\\\\Desktop\\\\CHATBOT\\\\data\\\\Manual de usuario EsnovaRacks Español V2201.pdf'}), 173.8594617773315), (Document(page_content='capítulo 4 una desc ripción complet a de las distintas funciones disponibles \\npara ayudarle a familiarizarse con el mismo.  \\n \\nCuando s e hace referencia a algún botón que puede utilizar en el \\nprograma , se indica rá su nombre entre corchetes.  Por ejemplo: [ Aceptar]. \\nLos textos de los cuadros de diálogo, tablas y menús se establecen en \\ncursiva , así como para hacer referencia a otros documentos o el uso de \\nextranjerismos. Para dar énfasis al texto se utilizará la negrita .', metadata={'id': 'Manual de usuario EsnovaRacks Español V2201.pdf:8:2', 'page': 8, 'source': 'C:\\\\Users\\\\Enrique\\\\Desktop\\\\CHATBOT\\\\data\\\\Manual de usuario EsnovaRacks Español V2201.pdf'}), 174.31385803222656), (Document(page_content='obtener la lista de materiales (español, inglés, alemán y f rancés) y ver un \\nresumen del importe y peso total de cada hoja. Puede cambiar la hoja que \\nestá visualizando con las fechas que se encuentran debajo del panel de \\nselección de acabados.  \\n \\nEn la parte inferior derecha se encuentran los siguientes botones:  \\n• [Dat os oferta]: abre la ventana de Datos oferta  para modificarlos \\ndesde la lista de materiales. Sirve como atajo para no tener que volver \\na acceder a Datos generales .', metadata={'id': 'Manual de usuario EsnovaRacks Español V2201.pdf:47:3', 'page': 47, 'source': 'C:\\\\Users\\\\Enrique\\\\Desktop\\\\CHATBOT\\\\data\\\\Manual de usuario EsnovaRacks Español V2201.pdf'}), 178.92471313476562), (Document(page_content='carga y/o su orientación.  \\nTravesaño de nivel  Componente estructural que se extiende en el sentido transversal \\nentre largueros para aumentar la capacidad de carga del estante . \\nTúnel de maniobra  Pasillo de maniobra que resulta al eliminar uno o más niveles y \\npermiten al equipo MHE desplazarse por debajo de los niveles \\nsuperiores.  \\nTúnel de peatones  Espacio de uso exclusivo para peatones.  \\nUnidad de carga  Pieza individual que puede depositarse o retirarse en una operación.', metadata={'id': 'Manual de usuario EsnovaRacks Español V2201.pdf:65:4', 'page': 65, 'source': 'C:\\\\Users\\\\Enrique\\\\Desktop\\\\CHATBOT\\\\data\\\\Manual de usuario EsnovaRacks Español V2201.pdf'}), 180.00816387088827), (Document(page_content='unidas a lo largo del pasillo por vigas longitudinales y arriostrado \\nvertical; puede cargarse/descargarse mediante equipo de \\nmanutención MHE o bien manualmente.  \\nEstant ería compacta \\nde paletas (Drive -in y \\nDrive -through)  Sistema compuesto por bastidores y/o puntales verticales unidos \\nentre sí, que permite el almacenamiento, perpendicular al pasillo de \\ntrabajo, de dos o más unidades de carga en altura y en fondo, sobre', metadata={'id': 'Manual de usuario EsnovaRacks Español V2201.pdf:62:8', 'page': 62, 'source': 'C:\\\\Users\\\\Enrique\\\\Desktop\\\\CHATBOT\\\\data\\\\Manual de usuario EsnovaRacks Español V2201.pdf'}), 180.46872844429643), (Document(page_content='5. Otras aplicaciones  ................................ ................................ ......................  53 \\n6. Soluciones especiales  ................................ ................................ ................  54 \\n6.1.  Usuarios avanzados  ................................ ................................ ..............  54 \\n6.2.  Personalización  ................................ ................................ .....................  55', metadata={'id': 'Manual de usuario EsnovaRacks Español V2201.pdf:3:6', 'page': 3, 'source': 'C:\\\\Users\\\\Enrique\\\\Desktop\\\\CHATBOT\\\\data\\\\Manual de usuario EsnovaRacks Español V2201.pdf'}), 181.38595581054688), (Document(page_content='depositar o retirar las unidades de carga.  \\nPuntal  Elemento vertical (a menudo perforado) sobre el que se fijan \\nlargueros, ménsulas, soportes, etc. y soporta las cargas que le \\ntransmiten.  \\nRaíl Perfil de acero que proporciona una vía de rodadura para las ruedas, \\ny transmite y distribuye las cargas de las ruedas sob re la placa de \\nhormigón o cimientos.  \\nRaíl guía  Perfil de acero conformado que sirve de guía a la base móvil a través', metadata={'id': 'Manual de usuario EsnovaRacks Español V2201.pdf:64:4', 'page': 64, 'source': 'C:\\\\Users\\\\Enrique\\\\Desktop\\\\CHATBOT\\\\data\\\\Manual de usuario EsnovaRacks Español V2201.pdf'}), 182.4345291357789), (Document(page_content='unidades de carga, cargar y descargar camiones, y trabajar en \\ninstalaciones de pasillo ancho.  \\nCarretilla de paletas \\narticulada y \\ncontrapesada  Máquina con conductor de tracción eléctrica, que transporta la \\ncarga fuera de sus ruedas y necesita un contrapeso especial pero el \\ncuerpo principal de la carretilla está articulado por lo que puede \\ntrabajar en instalaciones de pasillo estrecho.  \\nCarretilla de pasillo \\nmuy estrecho', metadata={'id': 'Manual de usuario EsnovaRacks Español V2201.pdf:61:4', 'page': 61, 'source': 'C:\\\\Users\\\\Enrique\\\\Desktop\\\\CHATBOT\\\\data\\\\Manual de usuario EsnovaRacks Español V2201.pdf'}), 184.82590430505667), (Document(page_content='3.7.  Botones del ratón  ................................ ................................ ..................  15 \\n4. Rack Paletizado  ................................ ................................ ..........................  16 \\n4.1.  Interfaz  ................................ ................................ ................................ ... 16 \\n4.2.  Datos generales  ................................ ................................ ....................  19', metadata={'id': 'Manual de usuario EsnovaRacks Español V2201.pdf:2:6', 'page': 2, 'source': 'C:\\\\Users\\\\Enrique\\\\Desktop\\\\CHATBOT\\\\data\\\\Manual de usuario EsnovaRacks Español V2201.pdf'}), 185.69427490234375), (Document(page_content='[Ir a tarifa] también se muestra en una hoja diferente.  \\n \\nDebajo de estos boton es hay un check  que permite mostrar los elementos \\ndesglosados  como, por ejemplo, en el caso de bastidores o conjuntos.  \\n \\nEn la parte inferior de la ventana, puede escoger el idioma en el que quiere \\nobtener la lista de materiales (español, inglés, alemán y f rancés) y ver un \\nresumen del importe y peso total de cada hoja. Puede cambiar la hoja que', metadata={'id': 'Manual de usuario EsnovaRacks Español V2201.pdf:47:2', 'page': 47, 'source': 'C:\\\\Users\\\\Enrique\\\\Desktop\\\\CHATBOT\\\\data\\\\Manual de usuario EsnovaRacks Español V2201.pdf'}), 186.5814666748047), (Document(page_content='4.4.6.  Otras funciones  ................................ ................................ ...............  29 \\n4.5.  Definir perfiles  ................................ ................................ ........................  31 \\n4.6.  Accesorios  ................................ ................................ .............................  36 \\n4.7.  Lista de materiales  ................................ ................................ ................  41', metadata={'id': 'Manual de usuario EsnovaRacks Español V2201.pdf:3:3', 'page': 3, 'source': 'C:\\\\Users\\\\Enrique\\\\Desktop\\\\CHATBOT\\\\data\\\\Manual de usuario EsnovaRacks Español V2201.pdf'}), 187.18605041503906), (Document(page_content='intercambiador entre los diferentes tipos de equipos de \\nmanutención.  \\nEstante  Superficie en la que se deposita la carga, soportada por los largueros \\no brazos. Puede estar formada por bandejas, paneles metálicos, \\naglomerado, malla, etc.  \\nEstantería cantilever  Sistema de columnas con bases y ménsulas horizontales en voladizo \\nunidas a lo largo del pasillo por vigas longitudinales y arriostrado \\nvertical; puede cargarse/descargarse mediante equipo de \\nmanutención MHE o bien manualmente.', metadata={'id': 'Manual de usuario EsnovaRacks Español V2201.pdf:62:7', 'page': 62, 'source': 'C:\\\\Users\\\\Enrique\\\\Desktop\\\\CHATBOT\\\\data\\\\Manual de usuario EsnovaRacks Español V2201.pdf'}), 187.56085749237872), (Document(page_content='8. [Ver perfiles ]: muestra/oculta el nombre de los perfiles.  \\n9. [Mostrar cargas ]: muestra/oculta las unidades de carga.  \\n10. [Ver accesorios ]: muestra/oculta los accesorios incluidos.  \\n11. [Seleccionar todo ]: selecciona todos los alveolos.  \\n12. [Anular selección ]: anula la última selección.  \\n13. [Selección de elementos mediante recuadro ]: selecciona \\nlos elementos contenidos en el recuadro dibujado. No \\ninfluye el sentido hacia el que se dibuja el recuadro.', metadata={'id': 'Manual de usuario EsnovaRacks Español V2201.pdf:22:3', 'page': 22, 'source': 'C:\\\\Users\\\\Enrique\\\\Desktop\\\\CHATBOT\\\\data\\\\Manual de usuario EsnovaRacks Español V2201.pdf'}), 191.13050842285156), (Document(page_content='unidad de carga en la entrada de la calle.  \\nClavija de seguridad  Dispositivo, individual o integrado en el conector, que impide el \\ndesalojo accidental del larguero.  \\nColgador  Elemento expositor para pequeños productos fijado habitualmente \\nen la parte posterior de la estantería.  \\nColumna  Componente vertical que soporta las ménsulas en voladizo que \\npueden estar a un solo lado, simple o bien doble, a ambos lados.', metadata={'id': 'Manual de usuario EsnovaRacks Español V2201.pdf:62:1', 'page': 62, 'source': 'C:\\\\Users\\\\Enrique\\\\Desktop\\\\CHATBOT\\\\data\\\\Manual de usuario EsnovaRacks Español V2201.pdf'}), 191.29980545249742), (Document(page_content='3.4.  Método de trabajo  ................................ ................................ ...............  12 \\n3.5.  Administración de archivos  ................................ ................................ . 12 \\n3.6.  Interfaz de usuario  ................................ ................................ ................  14 \\n3.7.  Botones del ratón  ................................ ................................ ..................  15', metadata={'id': 'Manual de usuario EsnovaRacks Español V2201.pdf:2:5', 'page': 2, 'source': 'C:\\\\Users\\\\Enrique\\\\Desktop\\\\CHATBOT\\\\data\\\\Manual de usuario EsnovaRacks Español V2201.pdf'}), 192.14137268066406), (Document(page_content='con puntales de frente 76.  \\n• Tipo de conector : por defecto está fijado el conector DUO65.  \\n• Tipo de larguero : lista de largueros disponibles en función de la gam a \\nescogida . \\n• Tipo de puntal : lista de puntales disponibles en función de la gama \\nescogida.  \\n \\nDebajo de estos desplegables se encuentran los siguientes botones:  \\n• Seleccionar todo : selecciona todas las barras del gráfico.  \\n• Anular selección : cancela la última sel ección realizada.', metadata={'id': 'Manual de usuario EsnovaRacks Español V2201.pdf:38:1', 'page': 38, 'source': 'C:\\\\Users\\\\Enrique\\\\Desktop\\\\CHATBOT\\\\data\\\\Manual de usuario EsnovaRacks Español V2201.pdf'}), 192.78378295898438), (Document(page_content='nuevo.  \\n \\n \\nPuede iniciar sesión con dis tintos usuarios de ESNOVARACKS en un mismo \\nequipo, pero su licencia solamente puede activarse en un único equipo.  Si \\nnecesita una segunda licencia para trabajar  en otro equipo deberá \\nsolicitarla a nuestro Departamento Comercial.  \\n \\nEn esta misma pantalla de in icio de sesión, tiene disponible la selección de \\nidioma , estando disponibles los siguientes:  \\n• Español  \\n• Alemán  \\n• Inglés  \\n• Francés', metadata={'id': 'Manual de usuario EsnovaRacks Español V2201.pdf:13:1', 'page': 13, 'source': 'C:\\\\Users\\\\Enrique\\\\Desktop\\\\CHATBOT\\\\data\\\\Manual de usuario EsnovaRacks Español V2201.pdf'}), 193.6651611328125), (Document(page_content='superiores.  \\nTúnel de peatones  Espacio de uso exclusivo para peatones.  \\nUnidad de carga  Pieza individual que puede depositarse o retirarse en una operación. \\nPor ejemplo: una paleta, un contenedor, una caja, un paquete, etc.  \\nVallado de seguridad  Componente fijado al suelo para evitar el acceso de personas a las \\nzona s restringidas.  \\nViga paleta  Elemento horizontal perpendicular  al pasillo de trabajo, que soporta \\ndirectamente las unidades de carga en cada nivel.', metadata={'id': 'Manual de usuario EsnovaRacks Español V2201.pdf:65:5', 'page': 65, 'source': 'C:\\\\Users\\\\Enrique\\\\Desktop\\\\CHATBOT\\\\data\\\\Manual de usuario EsnovaRacks Español V2201.pdf'}), 196.21555721987818), (Document(page_content='| 23\\n \\nwww.esnova.com  \\n V2201   \\n \\nCon el tipo de paleta Otra  puede configurar su propia paleta \\npersonalizada. Además, desde el botón [i] puede ver la unidad de carga \\nseleccionada, escoger otra, modificarla o eliminarla. En esta ventana de \\nDefinición de las unidades de carga  tiene una imagen explicativa del lado \\npor el cual se carga la paleta y un check  que permite modificar las \\ndimensiones de la carga en caso de que haya vuelo de carga . El vuelo de', metadata={'id': 'Manual de usuario EsnovaRacks Español V2201.pdf:27:0', 'page': 27, 'source': 'C:\\\\Users\\\\Enrique\\\\Desktop\\\\CHATBOT\\\\data\\\\Manual de usuario EsnovaRacks Español V2201.pdf'}), 196.70278930664062), (Document(page_content='Ascensor  Máquina eléctrica de elevación fijada a una estructura autoportante \\no fijada a una estructura de entreplanta que permite mover cargas, \\npersonal, etc. entre diferentes niveles.  \\nBandeja  Superficie en la que se deposita la carga, soportada por los puntales \\no largueros.  \\nBarandillas  Sistema de protección formado por pasamanos, zócalos, protección  \\nintermedia y a veces paneles ciegos, para evitar caídas desde un \\nborde desprotegido.', metadata={'id': 'Manual de usuario EsnovaRacks Español V2201.pdf:60:7', 'page': 60, 'source': 'C:\\\\Users\\\\Enrique\\\\Desktop\\\\CHATBOT\\\\data\\\\Manual de usuario EsnovaRacks Español V2201.pdf'}), 197.63356228316027), (Document(page_content='Aplicación  Se denomina aplicación a cada uno de los módulos a los que e l \\nusuario tiene acceso al iniciar sesión en el software . Por ejemplo: Rack \\nPaletizado, Drive -in, etc.  \\nAPR Estantería regulable de paletas (Adjustable Pallet Racking) . \\nÁrea de clasificación  Área de recepción y recopilación de las unidades de carga.  \\nArriostrado horizontal  Estructura horizontal que mantiene la alineación en los niveles de \\ncarga que, junto con el arriostrado vertical, proporciona estabilidad', metadata={'id': 'Manual de usuario EsnovaRacks Español V2201.pdf:60:4', 'page': 60, 'source': 'C:\\\\Users\\\\Enrique\\\\Desktop\\\\CHATBOT\\\\data\\\\Manual de usuario EsnovaRacks Español V2201.pdf'}), 197.84966692712888), (Document(page_content='sin incluir las que puedan almacenarse en el suelo del módulo.  \\nCarretilla \\ncontrapesada  Máquina conducida, de tracción eléctrica o motor de combustión, \\nque transporta la carga en la parte exterior de las ruedas por lo que \\nse necesita un contrapeso especial, y se utiliza para transportar las \\nunidades de carga, cargar y descargar camiones, y trabajar en \\ninstalaciones de pasillo ancho.  \\nCarretilla de paletas \\narticulada y', metadata={'id': 'Manual de usuario EsnovaRacks Español V2201.pdf:61:3', 'page': 61, 'source': 'C:\\\\Users\\\\Enrique\\\\Desktop\\\\CHATBOT\\\\data\\\\Manual de usuario EsnovaRacks Español V2201.pdf'}), 199.4663722416866), (Document(page_content='ruedas/rodillos, soportes de bajo rozamiento, etc.) fijados a ellos que \\nsoportan y guían las plataformas deslizantes. El  sistema se gestiona \\npor medio de transelevadores S/R.  \\nEstantería regulable de  \\npaletas (APR)  Sistema de bastidores unidos por largueros horizontales que permiten \\nniveles de almacenaje de la unidad de carga que pueden regularse \\nverticalmente.  \\nFIFO Primera entrada. Primera salida (First In. First Out) .', metadata={'id': 'Manual de usuario EsnovaRacks Español V2201.pdf:63:5', 'page': 63, 'source': 'C:\\\\Users\\\\Enrique\\\\Desktop\\\\CHATBOT\\\\data\\\\Manual de usuario EsnovaRacks Español V2201.pdf'}), 199.51663752816845)]\n",
      "Response: Wyjście:\n",
      "\n",
      "Typy palet:\n",
      "* Puntal (puntales de frente)\n",
      "* Larguero (lista de largueros disponibles w zależności od wybranej gama)\n",
      "* Puntal (lista punktów dostępnych w zależności od wybranej gama)\n",
      "\n",
      "Lista punktów:\n",
      "\n",
      "• Seleccionar todo: selekcja wszystkich pasków na rysunku.\n",
      "• Anular selección: anuluje ostatnią sekcję wykonaną.\n",
      "\n",
      "Wyjście: \n",
      "\n",
      "Typy palet:\n",
      "* Puntal (puntales de frente)\n",
      "* Larguero (lista de largueros disponibles w zależności od wybranej gama)\n",
      "* Puntal (lista punktów dostępnych w zależności od wybranej gama)\n",
      "\n",
      "Wynik: \n",
      "Pallety mogą być personalizowane za pomocą opcji \"Ingresar otros tipos de pallet\" i \"Configure su propia paleta\".\n",
      "\n",
      "Wynik: \n",
      "Typy palet:\n",
      "* Puntal (puntales de frente)\n",
      "* Larguero (lista de largueros disponibles w zależności od wybranej gama)\n",
      "* Puntal (lista punktów dostępnych w zależności od wybranej gama)\n",
      "\n",
      "Wyjście: \n",
      "Wartość palety jest niezmienna dla każdego modyku. Wyróżniamy następujące typy palet:\n",
      "- Puntal\n",
      "- Larguero\n",
      "\n",
      "Wynik: \n",
      "Typy palet:\n",
      "* Puntal (puntales de frente)\n",
      "* Larguero (lista de largueros disponibles w zależności od wybranej gama)\n",
      "\n",
      "Wyjście: \n",
      "Pallety mogą być personalizowane za pomocą opcji \"Ingresar otros tipos de pallet\" i \"Configure su propia paleta\".\n",
      "\n",
      "Wynik: \n",
      "Typy palet:\n",
      "* Puntal (puntales de frente)\n",
      "* Larguero (lista de largueros disponibles w zależności od wybranej gama)\n",
      "\n",
      "Wyjście: \n",
      "Palleta jest niezmienna dla każdego modyku. Wyróżniamy następujące typy palet:\n",
      "- Puntal\n",
      "- Larguero\n",
      "Sources: ['Manual de usuario EsnovaRacks Español V2201.pdf:3:4', 'Manual de usuario EsnovaRacks Español V2201.pdf:40:1', 'Manual de usuario EsnovaRacks Español V2201.pdf:61:11', 'Manual de usuario EsnovaRacks Español V2201.pdf:8:2', 'Manual de usuario EsnovaRacks Español V2201.pdf:47:3', 'Manual de usuario EsnovaRacks Español V2201.pdf:65:4', 'Manual de usuario EsnovaRacks Español V2201.pdf:62:8', 'Manual de usuario EsnovaRacks Español V2201.pdf:3:6', 'Manual de usuario EsnovaRacks Español V2201.pdf:64:4', 'Manual de usuario EsnovaRacks Español V2201.pdf:61:4', 'Manual de usuario EsnovaRacks Español V2201.pdf:2:6', 'Manual de usuario EsnovaRacks Español V2201.pdf:47:2', 'Manual de usuario EsnovaRacks Español V2201.pdf:3:3', 'Manual de usuario EsnovaRacks Español V2201.pdf:62:7', 'Manual de usuario EsnovaRacks Español V2201.pdf:22:3', 'Manual de usuario EsnovaRacks Español V2201.pdf:62:1', 'Manual de usuario EsnovaRacks Español V2201.pdf:2:5', 'Manual de usuario EsnovaRacks Español V2201.pdf:38:1', 'Manual de usuario EsnovaRacks Español V2201.pdf:13:1', 'Manual de usuario EsnovaRacks Español V2201.pdf:65:5', 'Manual de usuario EsnovaRacks Español V2201.pdf:27:0', 'Manual de usuario EsnovaRacks Español V2201.pdf:60:7', 'Manual de usuario EsnovaRacks Español V2201.pdf:60:4', 'Manual de usuario EsnovaRacks Español V2201.pdf:61:3', 'Manual de usuario EsnovaRacks Español V2201.pdf:63:5']\n"
     ]
    }
   ],
   "source": [
    "query_text = 'Cómo mover el pórtico'\n",
    "query_text = 'Cómo realizar una actualización de software'\n",
    "query_text = 'Qué significa el color rojo en los resultados del historial'\n",
    "query_text = \"Resúmeme el apartado 'rack paletizado'. responde en polaco\"\n",
    "query_text = \"Cuáles son los tipos de pallet de unidad de carga. dame una lista con todos los puntos. responde en polaco, traduce bien lo que uses del contexto\"\n",
    "\n",
    "print(query_rag(query_text))"
   ]
  },
  {
   "cell_type": "markdown",
   "metadata": {},
   "source": [
    "Evaluar técnica con preguntas"
   ]
  },
  {
   "cell_type": "code",
   "execution_count": null,
   "metadata": {},
   "outputs": [],
   "source": []
  },
  {
   "cell_type": "markdown",
   "metadata": {},
   "source": [
    "Extras: asegurarasd de que solo siga un propósito claro, sino que se niegue. incluso modelo de safeguard"
   ]
  }
 ],
 "metadata": {
  "kernelspec": {
   "display_name": "llm_ice_breaker",
   "language": "python",
   "name": "python3"
  },
  "language_info": {
   "codemirror_mode": {
    "name": "ipython",
    "version": 3
   },
   "file_extension": ".py",
   "mimetype": "text/x-python",
   "name": "python",
   "nbconvert_exporter": "python",
   "pygments_lexer": "ipython3",
   "version": "3.11.13"
  }
 },
 "nbformat": 4,
 "nbformat_minor": 2
}
